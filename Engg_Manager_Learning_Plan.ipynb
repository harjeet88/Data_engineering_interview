{
  "nbformat": 4,
  "nbformat_minor": 0,
  "metadata": {
    "colab": {
      "provenance": [],
      "authorship_tag": "ABX9TyMedDGj48tkf9EAaBrpEHYS",
      "include_colab_link": true
    },
    "kernelspec": {
      "name": "python3",
      "display_name": "Python 3"
    },
    "language_info": {
      "name": "python"
    }
  },
  "cells": [
    {
      "cell_type": "markdown",
      "metadata": {
        "id": "view-in-github",
        "colab_type": "text"
      },
      "source": [
        "<a href=\"https://colab.research.google.com/github/harjeet88/Data_engineering_interview/blob/main/Engg_Manager_Learning_Plan.ipynb\" target=\"_parent\"><img src=\"https://colab.research.google.com/assets/colab-badge.svg\" alt=\"Open In Colab\"/></a>"
      ]
    },
    {
      "cell_type": "code",
      "execution_count": 1,
      "metadata": {
        "id": "OSQ4MyYlmCKq"
      },
      "outputs": [],
      "source": [
        "# Learning Plan for"
      ]
    },
    {
      "cell_type": "markdown",
      "source": [
        "# Learning Plan for Data Engineering Manager\n",
        "Focus on Following Topics\n",
        "1. Coding\n",
        "2. SDLC\n",
        "3. SQL\n",
        "4. Design\n",
        "5. Behavioural"
      ],
      "metadata": {
        "id": "Y4Nxjlf3mGF4"
      }
    },
    {
      "cell_type": "markdown",
      "source": [
        "# Coding\n",
        "1. Pick a langauage - Python or Scala\n",
        "  1. Prefer Python\n",
        "    - shorter learning curve\n",
        "    - easy to use with DS projects\n",
        "    - easy to crack interviews\n",
        "2. OOPS concepts\n",
        "  - Python OOPS is important\n",
        "3. Design Pattren\n",
        "4. SOLID Priciples\n",
        "5. DRY Principle\n",
        "6. 12 Factor Design\n"
      ],
      "metadata": {
        "id": "TWt6ROfEmbJZ"
      }
    },
    {
      "cell_type": "markdown",
      "source": [
        "# SDLC\n",
        "1. IDE - Pycharm\n",
        "2. SAST Tools, Pylint, SONAR etc\n",
        "3. Deployment strategies\n",
        "4. Testing Strategies, Code coverage etc\n",
        "5. TDD , BDD\n",
        "6. CICD\n",
        "7. DORA\n",
        "8. Jenkins\n",
        "9. Agile\n",
        "10. Code quality management in team\n",
        "11. Git Strategies"
      ],
      "metadata": {
        "id": "v84osrvGnEWi"
      }
    },
    {
      "cell_type": "markdown",
      "source": [
        "# Design\n",
        "1. General Design concepts ,\n",
        "  - Hashing\n",
        "  - Consistent hashing\n",
        "  - Replication\n",
        "  - heart beat\n",
        "  - gossip protocol\n",
        "  - etc\n",
        "2. All Lities\n",
        "  - Scalability\n",
        "  - recoverability\n",
        "  - maintainability\n",
        "  - etc\n",
        "3. Defensive design\n",
        "4. LLD and HLD\n",
        "5. Design Examples"
      ],
      "metadata": {
        "id": "ECR0Jb3in55r"
      }
    },
    {
      "cell_type": "markdown",
      "source": [
        "# Behavioural\n",
        "1. Building and managing a Team\n",
        "2. Managing Managers\n",
        "3. Influencing and Stakeholder Management\n",
        "4. Strategy and planning\n",
        "5. Managing and avoiding conflicts\n",
        "6. OD priciples\n",
        "7. Fostering Innovation"
      ],
      "metadata": {
        "id": "hE1620HSoqkw"
      }
    },
    {
      "cell_type": "code",
      "source": [],
      "metadata": {
        "id": "xIt6YrWPo1Iv"
      },
      "execution_count": null,
      "outputs": []
    }
  ]
}